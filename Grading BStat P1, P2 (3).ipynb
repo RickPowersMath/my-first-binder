{
 "cells": [
  {
   "cell_type": "code",
   "execution_count": 1,
   "metadata": {},
   "outputs": [
    {
     "data": {
      "text/html": [
       "<style>\n",
       ".list-inline {list-style: none; margin:0; padding: 0}\n",
       ".list-inline>li {display: inline-block}\n",
       ".list-inline>li:not(:last-child)::after {content: \"\\00b7\"; padding: 0 .5ex}\n",
       "</style>\n",
       "<ol class=list-inline><li>'BStatP1.csv'</li><li>'Grading BStat P1, P2 (2).ipynb'</li><li>'Grading BStat P1, P2.ipynb'</li><li>'hello.R'</li><li>'install.R'</li><li>'README.md'</li><li>'runtime.txt'</li></ol>\n"
      ],
      "text/latex": [
       "\\begin{enumerate*}\n",
       "\\item 'BStatP1.csv'\n",
       "\\item 'Grading BStat P1, P2 (2).ipynb'\n",
       "\\item 'Grading BStat P1, P2.ipynb'\n",
       "\\item 'hello.R'\n",
       "\\item 'install.R'\n",
       "\\item 'README.md'\n",
       "\\item 'runtime.txt'\n",
       "\\end{enumerate*}\n"
      ],
      "text/markdown": [
       "1. 'BStatP1.csv'\n",
       "2. 'Grading BStat P1, P2 (2).ipynb'\n",
       "3. 'Grading BStat P1, P2.ipynb'\n",
       "4. 'hello.R'\n",
       "5. 'install.R'\n",
       "6. 'README.md'\n",
       "7. 'runtime.txt'\n",
       "\n",
       "\n"
      ],
      "text/plain": [
       "[1] \"BStatP1.csv\"                    \"Grading BStat P1, P2 (2).ipynb\"\n",
       "[3] \"Grading BStat P1, P2.ipynb\"     \"hello.R\"                       \n",
       "[5] \"install.R\"                      \"README.md\"                     \n",
       "[7] \"runtime.txt\"                   "
      ]
     },
     "metadata": {},
     "output_type": "display_data"
    }
   ],
   "source": [
    "list.files(\".\")"
   ]
  },
  {
   "cell_type": "code",
   "execution_count": 2,
   "metadata": {},
   "outputs": [
    {
     "data": {
      "text/html": [
       "<style>\n",
       ".list-inline {list-style: none; margin:0; padding: 0}\n",
       ".list-inline>li {display: inline-block}\n",
       ".list-inline>li:not(:last-child)::after {content: \"\\00b7\"; padding: 0 .5ex}\n",
       "</style>\n",
       "<ol class=list-inline><li>10.5</li><li>11.1</li><li>5.3</li><li>7.8</li><li>7.5</li><li>12.5</li><li>5.2</li><li>5.9</li><li>9.6</li><li>15.1</li><li>17</li><li>10</li><li>11.5</li><li>6.2</li><li>7</li><li>5.6</li><li>7.8</li><li>6.4</li></ol>\n"
      ],
      "text/latex": [
       "\\begin{enumerate*}\n",
       "\\item 10.5\n",
       "\\item 11.1\n",
       "\\item 5.3\n",
       "\\item 7.8\n",
       "\\item 7.5\n",
       "\\item 12.5\n",
       "\\item 5.2\n",
       "\\item 5.9\n",
       "\\item 9.6\n",
       "\\item 15.1\n",
       "\\item 17\n",
       "\\item 10\n",
       "\\item 11.5\n",
       "\\item 6.2\n",
       "\\item 7\n",
       "\\item 5.6\n",
       "\\item 7.8\n",
       "\\item 6.4\n",
       "\\end{enumerate*}\n"
      ],
      "text/markdown": [
       "1. 10.5\n",
       "2. 11.1\n",
       "3. 5.3\n",
       "4. 7.8\n",
       "5. 7.5\n",
       "6. 12.5\n",
       "7. 5.2\n",
       "8. 5.9\n",
       "9. 9.6\n",
       "10. 15.1\n",
       "11. 17\n",
       "12. 10\n",
       "13. 11.5\n",
       "14. 6.2\n",
       "15. 7\n",
       "16. 5.6\n",
       "17. 7.8\n",
       "18. 6.4\n",
       "\n",
       "\n"
      ],
      "text/plain": [
       " [1] 10.5 11.1  5.3  7.8  7.5 12.5  5.2  5.9  9.6 15.1 17.0 10.0 11.5  6.2  7.0\n",
       "[16]  5.6  7.8  6.4"
      ]
     },
     "metadata": {},
     "output_type": "display_data"
    },
    {
     "data": {
      "text/html": [
       "<style>\n",
       ".list-inline {list-style: none; margin:0; padding: 0}\n",
       ".list-inline>li {display: inline-block}\n",
       ".list-inline>li:not(:last-child)::after {content: \"\\00b7\"; padding: 0 .5ex}\n",
       "</style>\n",
       "<ol class=list-inline><li>5.2</li><li>5.3</li><li>5.6</li><li>5.9</li><li>6.2</li><li>6.4</li><li>7</li><li>7.5</li><li>7.8</li><li>7.8</li><li>9.6</li><li>10</li><li>10.5</li><li>11.1</li><li>11.5</li><li>12.5</li><li>15.1</li><li>17</li></ol>\n"
      ],
      "text/latex": [
       "\\begin{enumerate*}\n",
       "\\item 5.2\n",
       "\\item 5.3\n",
       "\\item 5.6\n",
       "\\item 5.9\n",
       "\\item 6.2\n",
       "\\item 6.4\n",
       "\\item 7\n",
       "\\item 7.5\n",
       "\\item 7.8\n",
       "\\item 7.8\n",
       "\\item 9.6\n",
       "\\item 10\n",
       "\\item 10.5\n",
       "\\item 11.1\n",
       "\\item 11.5\n",
       "\\item 12.5\n",
       "\\item 15.1\n",
       "\\item 17\n",
       "\\end{enumerate*}\n"
      ],
      "text/markdown": [
       "1. 5.2\n",
       "2. 5.3\n",
       "3. 5.6\n",
       "4. 5.9\n",
       "5. 6.2\n",
       "6. 6.4\n",
       "7. 7\n",
       "8. 7.5\n",
       "9. 7.8\n",
       "10. 7.8\n",
       "11. 9.6\n",
       "12. 10\n",
       "13. 10.5\n",
       "14. 11.1\n",
       "15. 11.5\n",
       "16. 12.5\n",
       "17. 15.1\n",
       "18. 17\n",
       "\n",
       "\n"
      ],
      "text/plain": [
       " [1]  5.2  5.3  5.6  5.9  6.2  6.4  7.0  7.5  7.8  7.8  9.6 10.0 10.5 11.1 11.5\n",
       "[16] 12.5 15.1 17.0"
      ]
     },
     "metadata": {},
     "output_type": "display_data"
    }
   ],
   "source": [
    "data<-read.csv(\"BStatP1.csv\")\n",
    "d1 <- data$X1091\n",
    "d1\n",
    "sort(d1)"
   ]
  },
  {
   "cell_type": "code",
   "execution_count": 3,
   "metadata": {},
   "outputs": [
    {
     "data": {
      "image/png": "[encoded data removed]",
      "text/plain": [
       "Plot with title “Histogram of d1”"
      ]
     },
     "metadata": {
      "image/png": {
       "height": 420,
       "width": 420
      },
      "text/plain": {
       "height": 420,
       "width": 420
      }
     },
     "output_type": "display_data"
    },
    {
     "data": {
      "image/png": "[encoded data removed]",
      "text/plain": [
       "plot without title"
      ]
     },
     "metadata": {
      "image/png": {
       "height": 420,
       "width": 420
      },
      "text/plain": {
       "height": 420,
       "width": 420
      }
     },
     "output_type": "display_data"
    },
    {
     "data": {
      "image/png": "[encoded data removed]",
      "text/plain": [
       "plot without title"
      ]
     },
     "metadata": {
      "image/png": {
       "height": 420,
       "width": 420
      },
      "text/plain": {
       "height": 420,
       "width": 420
      }
     },
     "output_type": "display_data"
    }
   ],
   "source": [
    "hist(d1)\n",
    "boxplot(d1, range = 0, horizontal = TRUE)\n",
    "par(pin=c(6,1))\n",
    "stripchart(d1, at = 0.5, method = \"stack\")"
   ]
  },
  {
   "cell_type": "code",
   "execution_count": 14,
   "metadata": {},
   "outputs": [
    {
     "data": {
      "text/html": [
       "<table>\n",
       "<caption>A data.frame: 17 × 2</caption>\n",
       "<thead>\n",
       "\t<tr><th scope=col>Var1</th><th scope=col>Freq</th></tr>\n",
       "\t<tr><th scope=col>&lt;fct&gt;</th><th scope=col>&lt;int&gt;</th></tr>\n",
       "</thead>\n",
       "<tbody>\n",
       "\t<tr><td>[4.5,6)  </td><td>4</td></tr>\n",
       "\t<tr><td>[6,7.5)  </td><td>3</td></tr>\n",
       "\t<tr><td>[7.5,9)  </td><td>3</td></tr>\n",
       "\t<tr><td>[9,10.5) </td><td>2</td></tr>\n",
       "\t<tr><td>[10.5,12)</td><td>3</td></tr>\n",
       "\t<tr><td>[12,13.5)</td><td>1</td></tr>\n",
       "\t<tr><td>[13.5,15)</td><td>0</td></tr>\n",
       "\t<tr><td>[15,16.5)</td><td>1</td></tr>\n",
       "\t<tr><td>[16.5,18)</td><td>1</td></tr>\n",
       "\t<tr><td>[18,19.5)</td><td>0</td></tr>\n",
       "\t<tr><td>[19.5,21)</td><td>0</td></tr>\n",
       "\t<tr><td>[21,22.5)</td><td>0</td></tr>\n",
       "\t<tr><td>[22.5,24)</td><td>0</td></tr>\n",
       "\t<tr><td>[24,25.5)</td><td>0</td></tr>\n",
       "\t<tr><td>[25.5,27)</td><td>0</td></tr>\n",
       "\t<tr><td>[27,28.5)</td><td>0</td></tr>\n",
       "\t<tr><td>[28.5,30)</td><td>0</td></tr>\n",
       "</tbody>\n",
       "</table>\n"
      ],
      "text/latex": [
       "A data.frame: 17 × 2\n",
       "\\begin{tabular}{ll}\n",
       " Var1 & Freq\\\\\n",
       " <fct> & <int>\\\\\n",
       "\\hline\n",
       "\t {[}4.5,6)   & 4\\\\\n",
       "\t {[}6,7.5)   & 3\\\\\n",
       "\t {[}7.5,9)   & 3\\\\\n",
       "\t {[}9,10.5)  & 2\\\\\n",
       "\t {[}10.5,12) & 3\\\\\n",
       "\t {[}12,13.5) & 1\\\\\n",
       "\t {[}13.5,15) & 0\\\\\n",
       "\t {[}15,16.5) & 1\\\\\n",
       "\t {[}16.5,18) & 1\\\\\n",
       "\t {[}18,19.5) & 0\\\\\n",
       "\t {[}19.5,21) & 0\\\\\n",
       "\t {[}21,22.5) & 0\\\\\n",
       "\t {[}22.5,24) & 0\\\\\n",
       "\t {[}24,25.5) & 0\\\\\n",
       "\t {[}25.5,27) & 0\\\\\n",
       "\t {[}27,28.5) & 0\\\\\n",
       "\t {[}28.5,30) & 0\\\\\n",
       "\\end{tabular}\n"
      ],
      "text/markdown": [
       "\n",
       "A data.frame: 17 × 2\n",
       "\n",
       "| Var1 &lt;fct&gt; | Freq &lt;int&gt; |\n",
       "|---|---|\n",
       "| [4.5,6)   | 4 |\n",
       "| [6,7.5)   | 3 |\n",
       "| [7.5,9)   | 3 |\n",
       "| [9,10.5)  | 2 |\n",
       "| [10.5,12) | 3 |\n",
       "| [12,13.5) | 1 |\n",
       "| [13.5,15) | 0 |\n",
       "| [15,16.5) | 1 |\n",
       "| [16.5,18) | 1 |\n",
       "| [18,19.5) | 0 |\n",
       "| [19.5,21) | 0 |\n",
       "| [21,22.5) | 0 |\n",
       "| [22.5,24) | 0 |\n",
       "| [24,25.5) | 0 |\n",
       "| [25.5,27) | 0 |\n",
       "| [27,28.5) | 0 |\n",
       "| [28.5,30) | 0 |\n",
       "\n"
      ],
      "text/plain": [
       "   Var1      Freq\n",
       "1  [4.5,6)   4   \n",
       "2  [6,7.5)   3   \n",
       "3  [7.5,9)   3   \n",
       "4  [9,10.5)  2   \n",
       "5  [10.5,12) 3   \n",
       "6  [12,13.5) 1   \n",
       "7  [13.5,15) 0   \n",
       "8  [15,16.5) 1   \n",
       "9  [16.5,18) 1   \n",
       "10 [18,19.5) 0   \n",
       "11 [19.5,21) 0   \n",
       "12 [21,22.5) 0   \n",
       "13 [22.5,24) 0   \n",
       "14 [24,25.5) 0   \n",
       "15 [25.5,27) 0   \n",
       "16 [27,28.5) 0   \n",
       "17 [28.5,30) 0   "
      ]
     },
     "metadata": {},
     "output_type": "display_data"
    }
   ],
   "source": [
    "breaks=seq(4.5,30,1.5)\n",
    "transform(table(cut(d1,breaks,right=FALSE)))"
   ]
  },
  {
   "cell_type": "code",
   "execution_count": 16,
   "metadata": {},
   "outputs": [
    {
     "data": {
      "image/png": "[encoded data removed]",
      "text/plain": [
       "Plot with title “Histogram of d1”"
      ]
     },
     "metadata": {
      "image/png": {
       "height": 420,
       "width": 420
      },
      "text/plain": {
       "height": 420,
       "width": 420
      }
     },
     "output_type": "display_data"
    }
   ],
   "source": [
    "hist(d1, breaks, right = FALSE)"
   ]
  },
  {
   "cell_type": "code",
   "execution_count": 9,
   "metadata": {},
   "outputs": [
    {
     "data": {
      "text/html": [
       "0.868575419746092"
      ],
      "text/latex": [
       "0.868575419746092"
      ],
      "text/markdown": [
       "0.868575419746092"
      ],
      "text/plain": [
       "[1] 0.8685754"
      ]
     },
     "metadata": {},
     "output_type": "display_data"
    },
    {
     "data": {
      "text/html": [
       "9"
      ],
      "text/latex": [
       "9"
      ],
      "text/markdown": [
       "9"
      ],
      "text/plain": [
       "[1] 9"
      ]
     },
     "metadata": {},
     "output_type": "display_data"
    },
    {
     "data": {
      "text/html": [
       "7.8"
      ],
      "text/latex": [
       "7.8"
      ],
      "text/markdown": [
       "7.8"
      ],
      "text/plain": [
       "[1] 7.8"
      ]
     },
     "metadata": {},
     "output_type": "display_data"
    }
   ],
   "source": [
    "library(moments)\n",
    "skewness(d1)\n",
    "mean(d1)\n",
    "median(d1)"
   ]
  },
  {
   "cell_type": "code",
   "execution_count": null,
   "metadata": {},
   "outputs": [],
   "source": []
  }
 ],
 "metadata": {
  "kernelspec": {
   "display_name": "R",
   "language": "R",
   "name": "ir"
  },
  "language_info": {
   "codemirror_mode": "r",
   "file_extension": ".r",
   "mimetype": "text/x-r-source",
   "name": "R",
   "pygments_lexer": "r",
   "version": "3.6.3"
  }
 },
 "nbformat": 4,
 "nbformat_minor": 4
}
