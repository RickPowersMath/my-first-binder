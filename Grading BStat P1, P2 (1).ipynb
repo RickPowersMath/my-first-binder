{
 "cells": [
  {
   "cell_type": "code",
   "execution_count": 3,
   "metadata": {},
   "outputs": [
    {
     "data": {
      "text/html": [
       "<style>\n",
       ".list-inline {list-style: none; margin:0; padding: 0}\n",
       ".list-inline>li {display: inline-block}\n",
       ".list-inline>li:not(:last-child)::after {content: \"\\00b7\"; padding: 0 .5ex}\n",
       "</style>\n",
       "<ol class=list-inline><li>'BStatP1.csv'</li><li>'Grading BStat P1, P2.ipynb'</li><li>'hello.R'</li><li>'install.R'</li><li>'README.md'</li><li>'runtime.txt'</li></ol>\n"
      ],
      "text/latex": [
       "\\begin{enumerate*}\n",
       "\\item 'BStatP1.csv'\n",
       "\\item 'Grading BStat P1, P2.ipynb'\n",
       "\\item 'hello.R'\n",
       "\\item 'install.R'\n",
       "\\item 'README.md'\n",
       "\\item 'runtime.txt'\n",
       "\\end{enumerate*}\n"
      ],
      "text/markdown": [
       "1. 'BStatP1.csv'\n",
       "2. 'Grading BStat P1, P2.ipynb'\n",
       "3. 'hello.R'\n",
       "4. 'install.R'\n",
       "5. 'README.md'\n",
       "6. 'runtime.txt'\n",
       "\n",
       "\n"
      ],
      "text/plain": [
       "[1] \"BStatP1.csv\"                \"Grading BStat P1, P2.ipynb\"\n",
       "[3] \"hello.R\"                    \"install.R\"                 \n",
       "[5] \"README.md\"                  \"runtime.txt\"               "
      ]
     },
     "metadata": {},
     "output_type": "display_data"
    }
   ],
   "source": [
    "list.files(\".\")"
   ]
  },
  {
   "cell_type": "code",
   "execution_count": 4,
   "metadata": {},
   "outputs": [
    {
     "data": {
      "text/html": [
       "<style>\n",
       ".list-inline {list-style: none; margin:0; padding: 0}\n",
       ".list-inline>li {display: inline-block}\n",
       ".list-inline>li:not(:last-child)::after {content: \"\\00b7\"; padding: 0 .5ex}\n",
       "</style>\n",
       "<ol class=list-inline><li>10.5</li><li>11.1</li><li>5.3</li><li>7.8</li><li>7.5</li><li>12.5</li><li>5.2</li><li>5.9</li><li>9.6</li><li>15.1</li><li>17</li><li>10</li><li>11.5</li><li>6.2</li><li>7</li><li>5.6</li><li>7.8</li><li>6.4</li></ol>\n"
      ],
      "text/latex": [
       "\\begin{enumerate*}\n",
       "\\item 10.5\n",
       "\\item 11.1\n",
       "\\item 5.3\n",
       "\\item 7.8\n",
       "\\item 7.5\n",
       "\\item 12.5\n",
       "\\item 5.2\n",
       "\\item 5.9\n",
       "\\item 9.6\n",
       "\\item 15.1\n",
       "\\item 17\n",
       "\\item 10\n",
       "\\item 11.5\n",
       "\\item 6.2\n",
       "\\item 7\n",
       "\\item 5.6\n",
       "\\item 7.8\n",
       "\\item 6.4\n",
       "\\end{enumerate*}\n"
      ],
      "text/markdown": [
       "1. 10.5\n",
       "2. 11.1\n",
       "3. 5.3\n",
       "4. 7.8\n",
       "5. 7.5\n",
       "6. 12.5\n",
       "7. 5.2\n",
       "8. 5.9\n",
       "9. 9.6\n",
       "10. 15.1\n",
       "11. 17\n",
       "12. 10\n",
       "13. 11.5\n",
       "14. 6.2\n",
       "15. 7\n",
       "16. 5.6\n",
       "17. 7.8\n",
       "18. 6.4\n",
       "\n",
       "\n"
      ],
      "text/plain": [
       " [1] 10.5 11.1  5.3  7.8  7.5 12.5  5.2  5.9  9.6 15.1 17.0 10.0 11.5  6.2  7.0\n",
       "[16]  5.6  7.8  6.4"
      ]
     },
     "metadata": {},
     "output_type": "display_data"
    },
    {
     "data": {
      "text/html": [
       "<style>\n",
       ".list-inline {list-style: none; margin:0; padding: 0}\n",
       ".list-inline>li {display: inline-block}\n",
       ".list-inline>li:not(:last-child)::after {content: \"\\00b7\"; padding: 0 .5ex}\n",
       "</style>\n",
       "<ol class=list-inline><li>5.2</li><li>5.3</li><li>5.6</li><li>5.9</li><li>6.2</li><li>6.4</li><li>7</li><li>7.5</li><li>7.8</li><li>7.8</li><li>9.6</li><li>10</li><li>10.5</li><li>11.1</li><li>11.5</li><li>12.5</li><li>15.1</li><li>17</li></ol>\n"
      ],
      "text/latex": [
       "\\begin{enumerate*}\n",
       "\\item 5.2\n",
       "\\item 5.3\n",
       "\\item 5.6\n",
       "\\item 5.9\n",
       "\\item 6.2\n",
       "\\item 6.4\n",
       "\\item 7\n",
       "\\item 7.5\n",
       "\\item 7.8\n",
       "\\item 7.8\n",
       "\\item 9.6\n",
       "\\item 10\n",
       "\\item 10.5\n",
       "\\item 11.1\n",
       "\\item 11.5\n",
       "\\item 12.5\n",
       "\\item 15.1\n",
       "\\item 17\n",
       "\\end{enumerate*}\n"
      ],
      "text/markdown": [
       "1. 5.2\n",
       "2. 5.3\n",
       "3. 5.6\n",
       "4. 5.9\n",
       "5. 6.2\n",
       "6. 6.4\n",
       "7. 7\n",
       "8. 7.5\n",
       "9. 7.8\n",
       "10. 7.8\n",
       "11. 9.6\n",
       "12. 10\n",
       "13. 10.5\n",
       "14. 11.1\n",
       "15. 11.5\n",
       "16. 12.5\n",
       "17. 15.1\n",
       "18. 17\n",
       "\n",
       "\n"
      ],
      "text/plain": [
       " [1]  5.2  5.3  5.6  5.9  6.2  6.4  7.0  7.5  7.8  7.8  9.6 10.0 10.5 11.1 11.5\n",
       "[16] 12.5 15.1 17.0"
      ]
     },
     "metadata": {},
     "output_type": "display_data"
    }
   ],
   "source": [
    "data<-read.csv(\"BStatP1.csv\")\n",
    "d1 <- data$X1091\n",
    "d1\n",
    "sort(d1)"
   ]
  },
  {
   "cell_type": "code",
   "execution_count": 5,
   "metadata": {},
   "outputs": [
    {
     "data": {
      "image/png": "[encoded data removed]",
      "text/plain": [
       "Plot with title “Histogram of d1”"
      ]
     },
     "metadata": {
      "image/png": {
       "height": 420,
       "width": 420
      },
      "text/plain": {
       "height": 420,
       "width": 420
      }
     },
     "output_type": "display_data"
    },
    {
     "data": {
      "image/png": "[encoded data removed]",
      "text/plain": [
       "plot without title"
      ]
     },
     "metadata": {
      "image/png": {
       "height": 420,
       "width": 420
      },
      "text/plain": {
       "height": 420,
       "width": 420
      }
     },
     "output_type": "display_data"
    },
    {
     "data": {
      "image/png": "[encoded data removed]",
      "text/plain": [
       "plot without title"
      ]
     },
     "metadata": {
      "image/png": {
       "height": 420,
       "width": 420
      },
      "text/plain": {
       "height": 420,
       "width": 420
      }
     },
     "output_type": "display_data"
    }
   ],
   "source": [
    "hist(d1)\n",
    "boxplot(d1, range = 0, horizontal = TRUE)\n",
    "par(pin=c(6,1))\n",
    "stripchart(d1, at = 0.5, method = \"stack\")"
   ]
  },
  {
   "cell_type": "code",
   "execution_count": 6,
   "metadata": {},
   "outputs": [
    {
     "data": {
      "text/html": [
       "<table>\n",
       "<caption>A data.frame: 15 × 2</caption>\n",
       "<thead>\n",
       "\t<tr><th scope=col>Var1</th><th scope=col>Freq</th></tr>\n",
       "\t<tr><th scope=col>&lt;fct&gt;</th><th scope=col>&lt;int&gt;</th></tr>\n",
       "</thead>\n",
       "<tbody>\n",
       "\t<tr><td>(0,2]  </td><td>0</td></tr>\n",
       "\t<tr><td>(2,4]  </td><td>0</td></tr>\n",
       "\t<tr><td>(4,6]  </td><td>4</td></tr>\n",
       "\t<tr><td>(6,8]  </td><td>6</td></tr>\n",
       "\t<tr><td>(8,10] </td><td>2</td></tr>\n",
       "\t<tr><td>(10,12]</td><td>3</td></tr>\n",
       "\t<tr><td>(12,14]</td><td>1</td></tr>\n",
       "\t<tr><td>(14,16]</td><td>1</td></tr>\n",
       "\t<tr><td>(16,18]</td><td>1</td></tr>\n",
       "\t<tr><td>(18,20]</td><td>0</td></tr>\n",
       "\t<tr><td>(20,22]</td><td>0</td></tr>\n",
       "\t<tr><td>(22,24]</td><td>0</td></tr>\n",
       "\t<tr><td>(24,26]</td><td>0</td></tr>\n",
       "\t<tr><td>(26,28]</td><td>0</td></tr>\n",
       "\t<tr><td>(28,30]</td><td>0</td></tr>\n",
       "</tbody>\n",
       "</table>\n"
      ],
      "text/latex": [
       "A data.frame: 15 × 2\n",
       "\\begin{tabular}{ll}\n",
       " Var1 & Freq\\\\\n",
       " <fct> & <int>\\\\\n",
       "\\hline\n",
       "\t (0,2{]}   & 0\\\\\n",
       "\t (2,4{]}   & 0\\\\\n",
       "\t (4,6{]}   & 4\\\\\n",
       "\t (6,8{]}   & 6\\\\\n",
       "\t (8,10{]}  & 2\\\\\n",
       "\t (10,12{]} & 3\\\\\n",
       "\t (12,14{]} & 1\\\\\n",
       "\t (14,16{]} & 1\\\\\n",
       "\t (16,18{]} & 1\\\\\n",
       "\t (18,20{]} & 0\\\\\n",
       "\t (20,22{]} & 0\\\\\n",
       "\t (22,24{]} & 0\\\\\n",
       "\t (24,26{]} & 0\\\\\n",
       "\t (26,28{]} & 0\\\\\n",
       "\t (28,30{]} & 0\\\\\n",
       "\\end{tabular}\n"
      ],
      "text/markdown": [
       "\n",
       "A data.frame: 15 × 2\n",
       "\n",
       "| Var1 &lt;fct&gt; | Freq &lt;int&gt; |\n",
       "|---|---|\n",
       "| (0,2]   | 0 |\n",
       "| (2,4]   | 0 |\n",
       "| (4,6]   | 4 |\n",
       "| (6,8]   | 6 |\n",
       "| (8,10]  | 2 |\n",
       "| (10,12] | 3 |\n",
       "| (12,14] | 1 |\n",
       "| (14,16] | 1 |\n",
       "| (16,18] | 1 |\n",
       "| (18,20] | 0 |\n",
       "| (20,22] | 0 |\n",
       "| (22,24] | 0 |\n",
       "| (24,26] | 0 |\n",
       "| (26,28] | 0 |\n",
       "| (28,30] | 0 |\n",
       "\n"
      ],
      "text/plain": [
       "   Var1    Freq\n",
       "1  (0,2]   0   \n",
       "2  (2,4]   0   \n",
       "3  (4,6]   4   \n",
       "4  (6,8]   6   \n",
       "5  (8,10]  2   \n",
       "6  (10,12] 3   \n",
       "7  (12,14] 1   \n",
       "8  (14,16] 1   \n",
       "9  (16,18] 1   \n",
       "10 (18,20] 0   \n",
       "11 (20,22] 0   \n",
       "12 (22,24] 0   \n",
       "13 (24,26] 0   \n",
       "14 (26,28] 0   \n",
       "15 (28,30] 0   "
      ]
     },
     "metadata": {},
     "output_type": "display_data"
    }
   ],
   "source": [
    "breaks=seq(0,30,2)\n",
    "transform(table(cut(d1,breaks)))"
   ]
  },
  {
   "cell_type": "code",
   "execution_count": 7,
   "metadata": {},
   "outputs": [
    {
     "data": {
      "image/png": "[encoded data removed]",
      "text/plain": [
       "Plot with title “Histogram of d1”"
      ]
     },
     "metadata": {
      "image/png": {
       "height": 420,
       "width": 420
      },
      "text/plain": {
       "height": 420,
       "width": 420
      }
     },
     "output_type": "display_data"
    }
   ],
   "source": [
    "hist(d1, breaks)"
   ]
  },
  {
   "cell_type": "code",
   "execution_count": null,
   "metadata": {},
   "outputs": [],
   "source": []
  }
 ],
 "metadata": {
  "kernelspec": {
   "display_name": "R",
   "language": "R",
   "name": "ir"
  },
  "language_info": {
   "codemirror_mode": "r",
   "file_extension": ".r",
   "mimetype": "text/x-r-source",
   "name": "R",
   "pygments_lexer": "r",
   "version": "3.6.3"
  }
 },
 "nbformat": 4,
 "nbformat_minor": 4
}
